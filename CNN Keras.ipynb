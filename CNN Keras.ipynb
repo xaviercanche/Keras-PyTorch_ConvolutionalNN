{
 "cells": [
  {
   "cell_type": "markdown",
   "metadata": {},
   "source": [
    "# Red Neuronal Convolucional en Keras"
   ]
  },
  {
   "cell_type": "markdown",
   "metadata": {},
   "source": [
    "Implementación de una red neuronal artificial de arquitectura convolucional utilizando la interfaz de tensorflow y keras.\n",
    "La aplicación utilizada para probar la implementación del modelo es la del reconocimiento de dígitos escritos a mano, MNIST.\n",
    "\n",
    "Autor: M. en C. Mario Xavier Canche Uc, Agosto 2020, mario.canche@cimat.mx\n",
    "\n",
    "Basado en: https://www.cimat.mx/~mrivera/cursos/aprendizaje_profundo/introduccion_convnets/introduccion_convnets.html"
   ]
  },
  {
   "cell_type": "markdown",
   "metadata": {},
   "source": [
    "## Cargamos las librerias"
   ]
  },
  {
   "cell_type": "code",
   "execution_count": 1,
   "metadata": {},
   "outputs": [],
   "source": [
    "%matplotlib inline\n",
    "import matplotlib.pyplot as plt\n",
    "from sklearn.metrics import confusion_matrix, precision_score, recall_score \n",
    "from sklearn.metrics import f1_score, cohen_kappa_score\n",
    "import seaborn as sns \n",
    "\n",
    "from tensorflow.keras.datasets import mnist\n",
    "from tensorflow.keras.utils import to_categorical\n",
    "from tensorflow.keras import layers\n",
    "from tensorflow.keras import models\n",
    "\n",
    "import time\n",
    "import numpy as np"
   ]
  },
  {
   "cell_type": "markdown",
   "metadata": {},
   "source": [
    "## Cargamos la base de datos MNIST"
   ]
  },
  {
   "cell_type": "code",
   "execution_count": 2,
   "metadata": {},
   "outputs": [],
   "source": [
    "# Como las imágenes de MNIST son en niveles de gris (un solo canal)\n",
    "# tenemos que agregar una dimensión extra al tensor de datos que corresponde\n",
    "# al número de canales y debera ser igual a 1.\n",
    "\n",
    "(train_images, train_labels), (test_images, test_labels) = mnist.load_data()"
   ]
  },
  {
   "cell_type": "code",
   "execution_count": 3,
   "metadata": {},
   "outputs": [
    {
     "data": {
      "image/png": "[encoded data removed]",
      "text/plain": [
       "<Figure size 720x288 with 10 Axes>"
      ]
     },
     "metadata": {
      "needs_background": "light"
     },
     "output_type": "display_data"
    }
   ],
   "source": [
    "# Visualizamos una muestra de los datos\n",
    "plt.figure(figsize=(10,4))\n",
    "for i in range(10):\n",
    "    plt.subplot(2,5,i+1)\n",
    "    idx = list(train_labels).index(i)\n",
    "    plt.imshow(train_images[idx], 'gray')\n",
    "    plt.title(train_labels[idx])\n",
    "    plt.axis('off')\n",
    "    \n",
    "#plt.savefig('example_mnist.png')    \n",
    "plt.show()"
   ]
  },
  {
   "cell_type": "code",
   "execution_count": 4,
   "metadata": {},
   "outputs": [],
   "source": [
    "train_images = train_images.reshape((60000, 28, 28, 1))\n",
    "train_images = train_images.astype('float32') / 255\n",
    "\n",
    "test_images = test_images.reshape((10000, 28, 28, 1))\n",
    "test_images = test_images.astype('float32') / 255"
   ]
  },
  {
   "cell_type": "code",
   "execution_count": 5,
   "metadata": {},
   "outputs": [],
   "source": [
    "# Convertimos las etiquetas con valores enteros a categóricos (codificación one-hot o variables indicadoras)\n",
    "train_labels = to_categorical(train_labels)\n",
    "test_labels  = to_categorical(test_labels)"
   ]
  },
  {
   "cell_type": "markdown",
   "metadata": {},
   "source": [
    "## Definimos la Arquitectura de la Red"
   ]
  },
  {
   "cell_type": "code",
   "execution_count": 6,
   "metadata": {},
   "outputs": [],
   "source": [
    "# Arquitectura de la red\n",
    "convNN = models.Sequential()\n",
    "# Agregamos las capas convolucionales\n",
    "convNN.add(layers.Conv2D(filters     =32, \n",
    "                         kernel_size =(3, 3), \n",
    "                         activation  ='relu', \n",
    "                         input_shape =(28, 28, 1)))\n",
    "convNN.add(layers.MaxPooling2D(pool_size=(2, 2)))\n",
    "convNN.add(layers.Conv2D(filters=64, kernel_size=(3, 3), activation='relu'))\n",
    "convNN.add(layers.MaxPooling2D(pool_size=(2, 2)))\n",
    "convNN.add(layers.Conv2D(filters=64, kernel_size=(3, 3), activation='relu'))\n",
    "\n",
    "# Ahora agregamos una red similar con una arquitectura perceptron multicapas\n",
    "convNN.add(layers.Flatten())\n",
    "convNN.add(layers.Dense(units=64, activation='relu'))\n",
    "convNN.add(layers.Dense(units=10, activation='softmax'))"
   ]
  },
  {
   "cell_type": "code",
   "execution_count": 7,
   "metadata": {},
   "outputs": [
    {
     "name": "stdout",
     "output_type": "stream",
     "text": [
      "Model: \"sequential\"\n",
      "_________________________________________________________________\n",
      "Layer (type)                 Output Shape              Param #   \n",
      "=================================================================\n",
      "conv2d (Conv2D)              (None, 26, 26, 32)        320       \n",
      "_________________________________________________________________\n",
      "max_pooling2d (MaxPooling2D) (None, 13, 13, 32)        0         \n",
      "_________________________________________________________________\n",
      "conv2d_1 (Conv2D)            (None, 11, 11, 64)        18496     \n",
      "_________________________________________________________________\n",
      "max_pooling2d_1 (MaxPooling2 (None, 5, 5, 64)          0         \n",
      "_________________________________________________________________\n",
      "conv2d_2 (Conv2D)            (None, 3, 3, 64)          36928     \n",
      "_________________________________________________________________\n",
      "flatten (Flatten)            (None, 576)               0         \n",
      "_________________________________________________________________\n",
      "dense (Dense)                (None, 64)                36928     \n",
      "_________________________________________________________________\n",
      "dense_1 (Dense)              (None, 10)                650       \n",
      "=================================================================\n",
      "Total params: 93,322\n",
      "Trainable params: 93,322\n",
      "Non-trainable params: 0\n",
      "_________________________________________________________________\n"
     ]
    }
   ],
   "source": [
    "convNN.summary()"
   ]
  },
  {
   "cell_type": "code",
   "execution_count": 8,
   "metadata": {},
   "outputs": [],
   "source": [
    "# Compilamos el modelo, que es definir los parámetrso de la estpa de entrenamiento.\n",
    "convNN.compile(optimizer='rmsprop',\n",
    "              loss='categorical_crossentropy',\n",
    "              metrics=['accuracy'])"
   ]
  },
  {
   "cell_type": "markdown",
   "metadata": {},
   "source": [
    "## Entrenamos el Modelo"
   ]
  },
  {
   "cell_type": "code",
   "execution_count": 9,
   "metadata": {},
   "outputs": [
    {
     "name": "stdout",
     "output_type": "stream",
     "text": [
      "Train on 60000 samples\n",
      "Epoch 1/10\n",
      "60000/60000 - 34s - loss: 0.1802 - accuracy: 0.9447\n",
      "Epoch 2/10\n",
      "60000/60000 - 36s - loss: 0.0490 - accuracy: 0.9845\n",
      "Epoch 3/10\n",
      "60000/60000 - 35s - loss: 0.0338 - accuracy: 0.9897\n",
      "Epoch 4/10\n",
      "60000/60000 - 36s - loss: 0.0252 - accuracy: 0.9924\n",
      "Epoch 5/10\n",
      "60000/60000 - 36s - loss: 0.0195 - accuracy: 0.9939\n",
      "Epoch 6/10\n",
      "60000/60000 - 36s - loss: 0.0151 - accuracy: 0.9956\n",
      "Epoch 7/10\n",
      "60000/60000 - 41s - loss: 0.0124 - accuracy: 0.9961\n",
      "Epoch 8/10\n",
      "60000/60000 - 46s - loss: 0.0107 - accuracy: 0.9967\n",
      "Epoch 9/10\n",
      "60000/60000 - 55s - loss: 0.0089 - accuracy: 0.9974\n",
      "Epoch 10/10\n",
      "60000/60000 - 54s - loss: 0.0074 - accuracy: 0.9980\n",
      "seconds= 409.03173208236694\n"
     ]
    }
   ],
   "source": [
    "# Procedemos a realizar el entrenamiento\n",
    "tic = time.time()\n",
    "\n",
    "convNN.fit(x = train_images, \n",
    "           y = train_labels, \n",
    "           epochs    =10, \n",
    "           batch_size=64,\n",
    "          verbose=2)\n",
    "\n",
    "print('seconds=', time.time()-tic)"
   ]
  },
  {
   "cell_type": "code",
   "execution_count": 10,
   "metadata": {},
   "outputs": [
    {
     "name": "stdout",
     "output_type": "stream",
     "text": [
      "10000/10000 [==============================] - 4s 450us/sample - loss: 0.0435 - accuracy: 0.9902\n",
      "Accuracy: 0.9902\n"
     ]
    }
   ],
   "source": [
    "# Evaluando el modelo\n",
    "test_loss, test_acc = convNN.evaluate(test_images, test_labels)\n",
    "print('Accuracy:' ,test_acc)"
   ]
  },
  {
   "cell_type": "markdown",
   "metadata": {},
   "source": [
    "## Graficamos la matriz de confusión"
   ]
  },
  {
   "cell_type": "code",
   "execution_count": 11,
   "metadata": {},
   "outputs": [],
   "source": [
    "test_predicted_labels = convNN.predict(test_images)\n",
    "test_true_labels      = np.argmax(test_labels,axis=1)\n",
    "test_predicted_labels = np.argmax(test_predicted_labels,axis=1)"
   ]
  },
  {
   "cell_type": "code",
   "execution_count": 12,
   "metadata": {},
   "outputs": [
    {
     "data": {
      "image/png": "[encoded data removed]",
      "text/plain": [
       "<Figure size 792x648 with 2 Axes>"
      ]
     },
     "metadata": {
      "needs_background": "light"
     },
     "output_type": "display_data"
    }
   ],
   "source": [
    "C = confusion_matrix(test_true_labels, test_predicted_labels)\n",
    "\n",
    "f, ax = plt.subplots(figsize=(11, 9))\n",
    "sns.set()\n",
    "cmap = sns.diverging_palette(220, 10, as_cmap=True)\n",
    "ax = sns.heatmap(C, cmap=cmap, square=True,\n",
    "                 annot=True, fmt='d', linewidths=.5)\n",
    "ax.set_title('Matriz de Confusión')\n",
    "#plt.savefig('confusion_matrix_keras1.png')\n",
    "plt.show()"
   ]
  },
  {
   "cell_type": "code",
   "execution_count": null,
   "metadata": {},
   "outputs": [],
   "source": []
  },
  {
   "cell_type": "code",
   "execution_count": null,
   "metadata": {},
   "outputs": [],
   "source": []
  }
 ],
 "metadata": {
  "kernelspec": {
   "display_name": "Python 3",
   "language": "python",
   "name": "python3"
  },
  "language_info": {
   "codemirror_mode": {
    "name": "ipython",
    "version": 3
   },
   "file_extension": ".py",
   "mimetype": "text/x-python",
   "name": "python",
   "nbconvert_exporter": "python",
   "pygments_lexer": "ipython3",
   "version": "3.7.1"
  }
 },
 "nbformat": 4,
 "nbformat_minor": 2
}
