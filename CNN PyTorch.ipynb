{
 "cells": [
  {
   "cell_type": "markdown",
   "metadata": {},
   "source": [
    "# Red Neuronal Convolucional en PyTorch"
   ]
  },
  {
   "cell_type": "markdown",
   "metadata": {},
   "source": [
    "Implementación de una red neuronal artificial de arquitectura convolucional utilizando la interfaz de tensorflow y keras.\n",
    "La aplicación utilizada para probar la implementación del modelo es la del reconocimiento de dígitos escritos a mano, MNIST.\n",
    "\n",
    "Autor: M. en C. Mario Xavier Canche Uc, Agosto 2020, mario.canche@cimat.mx\n",
    "\n",
    "Basado en: https://www.cimat.mx/~mrivera/cursos/aprendizaje_profundo/introduccion_convnets/introduccion_convnets.html"
   ]
  },
  {
   "cell_type": "markdown",
   "metadata": {},
   "source": [
    "## Cargamos las librerias"
   ]
  },
  {
   "cell_type": "code",
   "execution_count": 10,
   "metadata": {},
   "outputs": [],
   "source": [
    "# Importamos las librerias de PyTorch\n",
    "import torch\n",
    "import torch.nn as nn\n",
    "from torch.autograd import Variable\n",
    "import torch.optim as optim\n",
    "import torchvision.datasets as dset\n",
    "import torchvision.transforms as transforms\n",
    "\n",
    "import torch.nn.functional as F\n",
    "import time\n",
    "\n",
    "%matplotlib inline\n",
    "import matplotlib.pyplot as plt\n",
    "from sklearn.metrics import confusion_matrix, precision_score, recall_score \n",
    "from sklearn.metrics import f1_score, cohen_kappa_score\n",
    "import seaborn as sns "
   ]
  },
  {
   "cell_type": "markdown",
   "metadata": {},
   "source": [
    "## Cargamos la base de datos MNIST"
   ]
  },
  {
   "cell_type": "code",
   "execution_count": 2,
   "metadata": {},
   "outputs": [
    {
     "name": "stdout",
     "output_type": "stream",
     "text": [
      "Trainning batch number: 938\n",
      "Testing batch number: 157\n"
     ]
    }
   ],
   "source": [
    "# Cargamos el dataset MNIST\n",
    "root = '/Users/xaviercanche/Dropbox/Cimat2020/clases/Aprendizaje_Maquina_II/datasets'\n",
    "\n",
    "#torch.manual_seed(123) #fijamos la semilla\n",
    "trans = transforms.Compose([transforms.ToTensor()]) #Transformador para el dataset\n",
    "\n",
    "train_set = dset.MNIST(root=root, train=True, transform=trans, download=True)\n",
    "test_set = dset.MNIST(root=root, train=False, transform=trans)\n",
    "\n",
    "# preprocesamos los datos\n",
    "batch_size   = 64\n",
    "train_loader = torch.utils.data.DataLoader( dataset = train_set, batch_size = batch_size, shuffle = True  )\n",
    "test_loader  = torch.utils.data.DataLoader( dataset = test_set , batch_size = batch_size, shuffle = False )\n",
    "\n",
    "print ('Trainning batch number: {}'.format(len(train_loader)))\n",
    "print ('Testing batch number: {}'.format(len(test_loader)))"
   ]
  },
  {
   "cell_type": "markdown",
   "metadata": {},
   "source": [
    "## Definimos la Arquitectura de la Red"
   ]
  },
  {
   "cell_type": "code",
   "execution_count": 3,
   "metadata": {},
   "outputs": [],
   "source": [
    "# Arquitectura de la red\n",
    "class CNN(nn.Module):\n",
    "    def __init__(self):\n",
    "        super(CNN, self).__init__()\n",
    "        self.conv1 = nn.Conv2d(1, 32, kernel_size=3)\n",
    "        self.conv2 = nn.Conv2d(32, 64, kernel_size=3)\n",
    "        self.conv3 = nn.Conv2d(64, 64, kernel_size=3)\n",
    "\n",
    "        self.fc1 = nn.Linear(64*3*3, 64) # capa oculta \n",
    "        self.fc2 = nn.Linear(64, 10) # capa de salida \n",
    "        \n",
    "        self.loss_criterion = nn.CrossEntropyLoss() # Función de pérdida\n",
    "\n",
    "    def forward(self, x, target):\n",
    "        x = F.max_pool2d( F.relu(self.conv1(x)), 2)\n",
    "        x = F.max_pool2d( F.relu(self.conv2(x)), 2)\n",
    "        x = F.relu(self.conv3(x))\n",
    "        x = x.view(-1, self.num_flat_features(x)) # flatten\n",
    "        \n",
    "        x = F.relu(self.fc1(x)) # Función de activación relu en la salida de la capa oculta\n",
    "        x = F.softmax(self.fc2(x), dim=1) # Función de activación softmax en la salida de la capa de salida\n",
    "        \n",
    "        loss = self.loss_criterion(x, target) # Calculo de la función de pérdida \n",
    "        return x, loss\n",
    "    \n",
    "    def num_flat_features(self, x):\n",
    "        size = x.size()[1:]  # all dimensions except the batch dimension\n",
    "        num_features = 1\n",
    "        for s in size:\n",
    "            num_features *= s\n",
    "        return num_features"
   ]
  },
  {
   "cell_type": "code",
   "execution_count": 4,
   "metadata": {},
   "outputs": [],
   "source": [
    "# Instanciamos el modelo y agregamos el optimizador\n",
    "model = CNN()\n",
    "optimizer = optim.RMSprop(model.parameters(), lr=0.001, momentum=0.0, alpha=0.9, eps=1e-07)\n",
    "#optimizer = optim.SGD(model.parameters(), lr=0.001)"
   ]
  },
  {
   "cell_type": "markdown",
   "metadata": {},
   "source": [
    "## Entrenamos el Modelo"
   ]
  },
  {
   "cell_type": "code",
   "execution_count": 5,
   "metadata": {},
   "outputs": [],
   "source": [
    "# Funcion para Entrenar la red\n",
    "def evaluate(model, dataset_loader, optimizer, train=False):\n",
    "    \n",
    "    correct_cnt = 0 # contador de aciertos\n",
    "    ave_loss = 0 # acumulador de la función de pérdida\n",
    "    count = 0 # contador de muestras\n",
    "    \n",
    "    for batch_idx, (x, target) in enumerate(dataset_loader):\n",
    "        # sumamos el tamaño de batch, esto es porque n_batches*tamaño_batch != n_muestras\n",
    "        count += len(x)\n",
    "        \n",
    "        if train:\n",
    "            optimizer.zero_grad() # iniciamos a 0 los valores de los gradiente\n",
    "            \n",
    "        # Convertimos el tensor a variable del modulo autograd\n",
    "        x = Variable(x)\n",
    "        target = Variable(target)\n",
    "        \n",
    "        score, loss = model(x, target) # predecimos con el metodo forward\n",
    "        _, pred_label = torch.max(score.data, 1) # pasamos de one hot a número\n",
    "        correct_cnt += (pred_label == target.data).sum() # calculamos el número de etiquetas correctas\n",
    "        ave_loss += loss.item() # sumamos el resultado de la función de pérdida para mostrar después\n",
    "        \n",
    "        if train:\n",
    "            loss.backward() # calcula los gradientes y los propaga \n",
    "            optimizer.step() # adaptamos los pesos con los gradientes propagados\n",
    "    \n",
    "    accuracy = int(correct_cnt)/count # calculamos la precisión total\n",
    "    ave_loss /= count # calculamos la pérdida media\n",
    "    \n",
    "    print ('==>>> loss: {:.6f}, accuracy: {:.4f}'.format(ave_loss, accuracy)) # mostramos resultados"
   ]
  },
  {
   "cell_type": "code",
   "execution_count": 6,
   "metadata": {},
   "outputs": [
    {
     "name": "stdout",
     "output_type": "stream",
     "text": [
      "Epoch: 0\n",
      "Train\n",
      "==>>> loss: 0.025748, accuracy: 0.8173\n",
      "Tiempo: 65.50862002372742 secs\n",
      "Epoch: 1\n",
      "Train\n",
      "==>>> loss: 0.024671, accuracy: 0.8817\n",
      "Tiempo: 134.94255089759827 secs\n",
      "Epoch: 2\n",
      "Train\n",
      "==>>> loss: 0.023633, accuracy: 0.9495\n",
      "Tiempo: 211.2279679775238 secs\n",
      "Epoch: 3\n",
      "Train\n",
      "==>>> loss: 0.023102, accuracy: 0.9835\n",
      "Tiempo: 287.0718777179718 secs\n",
      "Epoch: 4\n",
      "Train\n",
      "==>>> loss: 0.023059, accuracy: 0.9863\n",
      "Tiempo: 369.701180934906 secs\n",
      "Epoch: 5\n",
      "Train\n",
      "==>>> loss: 0.023029, accuracy: 0.9883\n",
      "Tiempo: 454.31698775291443 secs\n",
      "Epoch: 6\n",
      "Train\n",
      "==>>> loss: 0.023011, accuracy: 0.9892\n",
      "Tiempo: 533.1432900428772 secs\n",
      "Epoch: 7\n",
      "Train\n",
      "==>>> loss: 0.023011, accuracy: 0.9894\n",
      "Tiempo: 628.8329708576202 secs\n",
      "Epoch: 8\n",
      "Train\n",
      "==>>> loss: 0.022987, accuracy: 0.9909\n",
      "Tiempo: 728.9827208518982 secs\n",
      "Epoch: 9\n",
      "Train\n",
      "==>>> loss: 0.022975, accuracy: 0.9916\n",
      "Tiempo: 815.3720760345459 secs\n"
     ]
    }
   ],
   "source": [
    "# Entrenamos la Red\n",
    "tic=time.time()\n",
    "for epoch in range(10):\n",
    "    print(\"Epoch: {}\".format(epoch))\n",
    "    print(\"Train\")\n",
    "    evaluate(model, train_loader, optimizer, train=True)\n",
    "    print('Tiempo: {} secs'.format(time.time()-tic))"
   ]
  },
  {
   "cell_type": "code",
   "execution_count": 7,
   "metadata": {},
   "outputs": [
    {
     "name": "stdout",
     "output_type": "stream",
     "text": [
      "Test\n",
      "==>>> loss: 0.023077, accuracy: 0.9913\n"
     ]
    }
   ],
   "source": [
    "print(\"Test\")\n",
    "evaluate(model, test_loader, optimizer, train=False)"
   ]
  },
  {
   "cell_type": "markdown",
   "metadata": {},
   "source": [
    "## Graficamos la matriz de confusión"
   ]
  },
  {
   "cell_type": "code",
   "execution_count": 8,
   "metadata": {},
   "outputs": [],
   "source": [
    "# Extraemos las etiquetas predichas\n",
    "test_true_labels = []\n",
    "test_predicted_labels = []\n",
    "\n",
    "for batch_idx, (x, target) in enumerate(test_loader):\n",
    "            \n",
    "    # Convertimos el tensor a variable del modulo autograd\n",
    "    x = Variable(x)\n",
    "    target = Variable(target)\n",
    "        \n",
    "    score, loss = model(x, target) # predecimos con el metodo forward\n",
    "    _, pred_label = torch.max(score.data, 1) # pasamos de one hot a número\n",
    "    \n",
    "    test_true_labels += target.numpy().tolist()\n",
    "    test_predicted_labels += pred_label.numpy().tolist()"
   ]
  },
  {
   "cell_type": "code",
   "execution_count": 11,
   "metadata": {},
   "outputs": [
    {
     "data": {
      "image/png": "[encoded data removed]",
      "text/plain": [
       "<Figure size 792x648 with 2 Axes>"
      ]
     },
     "metadata": {
      "needs_background": "light"
     },
     "output_type": "display_data"
    }
   ],
   "source": [
    "# Creamos la matriz de confusión\n",
    "C = confusion_matrix(test_true_labels, test_predicted_labels)\n",
    "\n",
    "f, ax = plt.subplots(figsize=(11, 9))\n",
    "sns.set()\n",
    "cmap = sns.diverging_palette(220, 10, as_cmap=True)\n",
    "ax = sns.heatmap(C, cmap=cmap, square=True,\n",
    "                 annot=True, fmt='d', linewidths=.5)\n",
    "ax.set_title('Matriz de Confusión')\n",
    "plt.show()"
   ]
  },
  {
   "cell_type": "code",
   "execution_count": null,
   "metadata": {},
   "outputs": [],
   "source": []
  },
  {
   "cell_type": "code",
   "execution_count": null,
   "metadata": {},
   "outputs": [],
   "source": []
  }
 ],
 "metadata": {
  "kernelspec": {
   "display_name": "Python 3",
   "language": "python",
   "name": "python3"
  },
  "language_info": {
   "codemirror_mode": {
    "name": "ipython",
    "version": 3
   },
   "file_extension": ".py",
   "mimetype": "text/x-python",
   "name": "python",
   "nbconvert_exporter": "python",
   "pygments_lexer": "ipython3",
   "version": "3.7.1"
  }
 },
 "nbformat": 4,
 "nbformat_minor": 2
}
